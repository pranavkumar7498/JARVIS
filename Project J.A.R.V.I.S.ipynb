{
 "cells": [
  {
   "cell_type": "code",
   "execution_count": 1,
   "metadata": {},
   "outputs": [
    {
     "data": {
      "text/plain": [
       "'C:\\\\Users\\\\DELL'"
      ]
     },
     "execution_count": 1,
     "metadata": {},
     "output_type": "execute_result"
    }
   ],
   "source": [
    "pwd"
   ]
  },
  {
   "cell_type": "code",
   "execution_count": 15,
   "metadata": {},
   "outputs": [],
   "source": [
    "import speech_recognition as sr\n",
    "from gtts import gTTS"
   ]
  },
  {
   "cell_type": "code",
   "execution_count": 16,
   "metadata": {},
   "outputs": [],
   "source": [
    "import mpg123"
   ]
  },
  {
   "cell_type": "code",
   "execution_count": 17,
   "metadata": {},
   "outputs": [],
   "source": [
    "import os\n",
    "import sys\n",
    "import re\n",
    "import webbrowser\n",
    "import smtplib\n",
    "import requests\n",
    "import subprocess\n",
    "from pyowm import OWM\n",
    "import youtube_dl\n",
    "import urllib\n",
    "import json\n",
    "from bs4 import BeautifulSoup as soup\n",
    "import wikipedia\n",
    "import random\n",
    "from time import strftime"
   ]
  },
  {
   "cell_type": "code",
   "execution_count": 18,
   "metadata": {},
   "outputs": [],
   "source": [
    "def talktome(audio):\n",
    "    print(audio)\n",
    "    tts=gTTS(text=audio,lang='en')\n",
    "    tts.save('opg1.mp3')\n",
    "    os.system('start opg.mp3')"
   ]
  },
  {
   "cell_type": "code",
   "execution_count": 19,
   "metadata": {},
   "outputs": [],
   "source": [
    "def starttalking(audio):\n",
    "    print(audio)\n",
    "    tts=gTTS(text=audio,lang='en')\n",
    "    tts.save('first2.mp3')\n",
    "    os.system('start first2.mp3')"
   ]
  },
  {
   "cell_type": "code",
   "execution_count": 20,
   "metadata": {},
   "outputs": [],
   "source": [
    "def talktomenice(audio):\n",
    "    print(audio)\n",
    "    tts=gTTS(text=audio,lang='en')\n",
    "    tts.save('ttn1.mp3')\n",
    "    os.system('start ttn1.mp3')"
   ]
  },
  {
   "cell_type": "code",
   "execution_count": 21,
   "metadata": {},
   "outputs": [],
   "source": [
    "def talkjoke(audio):\n",
    "    print(audio)\n",
    "    tts=gTTS(text=audio,lang='en')\n",
    "    tts.save('ttj.mp3')\n",
    "    os.system('start ttj.mp3')"
   ]
  },
  {
   "cell_type": "code",
   "execution_count": 22,
   "metadata": {},
   "outputs": [],
   "source": [
    "def wru(audio):\n",
    "    print(audio)\n",
    "    tts=gTTS(text=audio,lang='en')\n",
    "    tts.save('wr1.mp3')\n",
    "    os.system('start wr1.mp3')"
   ]
  },
  {
   "cell_type": "code",
   "execution_count": 23,
   "metadata": {},
   "outputs": [],
   "source": [
    "def shtd(audio):\n",
    "    print(audio)\n",
    "    tts=gTTS(text=audio,lang='en')\n",
    "    tts.save('sh1.mp3')\n",
    "    os.system('start sh1.mp3')"
   ]
  },
  {
   "cell_type": "code",
   "execution_count": 24,
   "metadata": {},
   "outputs": [],
   "source": [
    "def assistant(command):\n",
    "    \"if statements for executing commands\"\n",
    "    if 'open google' in command:\n",
    "        url = 'https://www.google.co.in/'\n",
    "        webbrowser.open(url)\n",
    "        talktome('The content has been opened for you Sir.')\n",
    "    elif 'what are you doing' in command:\n",
    "        talktome('Waiting for your command Sir')\n",
    "    elif 'current weather' in command:\n",
    "        reg_ex = re.search('current weather in (.*)', command)\n",
    "        if reg_ex:\n",
    "            city = reg_ex.group(1)\n",
    "            owm = OWM(API_key='ab0d5e80e8dafb2cb81fa9e82431c1fa')\n",
    "            obs = owm.weather_at_place(city)\n",
    "            w = obs.get_weather()\n",
    "            k = w.get_status()\n",
    "            x = w.get_temperature(unit='celsius')\n",
    "            talktome('Current weather in %s is %s. The maximum temperature is %0.2f and the minimum temperature is %0.2f degree celcius' % (city, k, x['temp_max'], x['temp_min']))\n",
    "    elif 'time' in command:\n",
    "        import datetime\n",
    "        now = datetime.datetime.now()\n",
    "        talktome('Current time is %d hours %d minutes' % (now.hour, now.minute))\n",
    "    elif 'Hello jarvis' in command:\n",
    "        day_time = int(strftime('%H'))\n",
    "        if day_time < 12:\n",
    "            talktomenice('Hello Sir. Good morning')\n",
    "        elif 12 <= day_time < 18:\n",
    "            talktomenice('Hello Sir. Good afternoon')\n",
    "        else:\n",
    "            talktomenice('Hello Sir. Good evening')\n",
    "    elif 'tell me a joke' in command:\n",
    "        res = requests.get(\n",
    "                'https://icanhazdadjoke.com/',\n",
    "                headers={\"Accept\":\"application/json\"})\n",
    "        if res.status_code == requests.codes.ok:\n",
    "            talkjoke(str(res.json()['joke']))\n",
    "        else:\n",
    "            talkjoke('oops! I ran out of jokes')\n",
    "    elif 'launch' in command:\n",
    "        reg_ex = re.search('launch (.*)', command)\n",
    "        if reg_ex:\n",
    "            appname = reg_ex.group(1)\n",
    "            appname1 = appname+\".app\"\n",
    "            subprocess.Popen([\"open\", \"-n\", \"/Applications/\" + appname1], stdout=subprocess.PIPE)\n",
    "    elif 'who are you' in command:\n",
    "        wru('I am jarvis')\n",
    "    elif 'shutdown' in command:\n",
    "        shtd('See you later sir')\n",
    "        sys.exit()"
   ]
  },
  {
   "cell_type": "code",
   "execution_count": 25,
   "metadata": {},
   "outputs": [],
   "source": [
    "def myCommand():\n",
    "    r = sr.Recognizer()\n",
    "    with sr.Microphone() as source:\n",
    "        starttalking('I am ready ? \\n')\n",
    "        r.pause_threshold = 2\n",
    "        r.adjust_for_ambient_noise(source, duration=1)\n",
    "        audio = r.listen(source)\n",
    "    try:\n",
    "        command = r.recognize_google(audio).lower()\n",
    "        print('You said: ' + command + '\\n')\n",
    "    except sr.UnknownValueError:\n",
    "        print('i have not understood repeat please ?')\n",
    "        command = myCommand();\n",
    "    return command\n"
   ]
  },
  {
   "cell_type": "code",
   "execution_count": null,
   "metadata": {
    "scrolled": true
   },
   "outputs": [
    {
     "name": "stdout",
     "output_type": "stream",
     "text": [
      "I am ready ? \n",
      "\n"
     ]
    }
   ],
   "source": [
    "while True:\n",
    "    assistant(myCommand())"
   ]
  },
  {
   "cell_type": "code",
   "execution_count": null,
   "metadata": {},
   "outputs": [],
   "source": []
  },
  {
   "cell_type": "code",
   "execution_count": null,
   "metadata": {},
   "outputs": [],
   "source": []
  }
 ],
 "metadata": {
  "kernelspec": {
   "display_name": "Python 3",
   "language": "python",
   "name": "python3"
  },
  "language_info": {
   "codemirror_mode": {
    "name": "ipython",
    "version": 3
   },
   "file_extension": ".py",
   "mimetype": "text/x-python",
   "name": "python",
   "nbconvert_exporter": "python",
   "pygments_lexer": "ipython3",
   "version": "3.7.4"
  }
 },
 "nbformat": 4,
 "nbformat_minor": 2
}
